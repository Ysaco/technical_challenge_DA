{
 "cells": [
  {
   "cell_type": "markdown",
   "id": "5a2f7ce8",
   "metadata": {},
   "source": [
    "## Importing libraries used"
   ]
  },
  {
   "cell_type": "markdown",
   "id": "40395620",
   "metadata": {},
   "source": [
    "import pandas as pd\n",
    "import matplotlib.pyplot as mpl\n",
    "import seaborn as sea\n",
    "import math\n",
    "import re\n",
    "from scipy import stats\n",
    "import statsmodels.api as sm\n",
    "from sklearn.preprocessing import QuantileTransformer"
   ]
  },
  {
   "cell_type": "markdown",
   "id": "c37605a9",
   "metadata": {},
   "source": [
    "## Importing the data"
   ]
  },
  {
   "cell_type": "code",
   "execution_count": 111,
   "id": "df00345c",
   "metadata": {},
   "outputs": [
    {
     "data": {
      "text/html": [
       "<div>\n",
       "<style scoped>\n",
       "    .dataframe tbody tr th:only-of-type {\n",
       "        vertical-align: middle;\n",
       "    }\n",
       "\n",
       "    .dataframe tbody tr th {\n",
       "        vertical-align: top;\n",
       "    }\n",
       "\n",
       "    .dataframe thead th {\n",
       "        text-align: right;\n",
       "    }\n",
       "</style>\n",
       "<table border=\"1\" class=\"dataframe\">\n",
       "  <thead>\n",
       "    <tr style=\"text-align: right;\">\n",
       "      <th></th>\n",
       "      <th>distance</th>\n",
       "      <th>consume</th>\n",
       "      <th>speed</th>\n",
       "      <th>temp_inside</th>\n",
       "      <th>temp_outside</th>\n",
       "      <th>specials</th>\n",
       "      <th>gas_type</th>\n",
       "      <th>AC</th>\n",
       "      <th>rain</th>\n",
       "      <th>sun</th>\n",
       "      <th>refill liters</th>\n",
       "      <th>refill gas</th>\n",
       "    </tr>\n",
       "  </thead>\n",
       "  <tbody>\n",
       "    <tr>\n",
       "      <th>0</th>\n",
       "      <td>28</td>\n",
       "      <td>5</td>\n",
       "      <td>26</td>\n",
       "      <td>21,5</td>\n",
       "      <td>12</td>\n",
       "      <td>NaN</td>\n",
       "      <td>E10</td>\n",
       "      <td>0</td>\n",
       "      <td>0</td>\n",
       "      <td>0</td>\n",
       "      <td>45</td>\n",
       "      <td>E10</td>\n",
       "    </tr>\n",
       "    <tr>\n",
       "      <th>1</th>\n",
       "      <td>12</td>\n",
       "      <td>4,2</td>\n",
       "      <td>30</td>\n",
       "      <td>21,5</td>\n",
       "      <td>13</td>\n",
       "      <td>NaN</td>\n",
       "      <td>E10</td>\n",
       "      <td>0</td>\n",
       "      <td>0</td>\n",
       "      <td>0</td>\n",
       "      <td>NaN</td>\n",
       "      <td>NaN</td>\n",
       "    </tr>\n",
       "    <tr>\n",
       "      <th>2</th>\n",
       "      <td>11,2</td>\n",
       "      <td>5,5</td>\n",
       "      <td>38</td>\n",
       "      <td>21,5</td>\n",
       "      <td>15</td>\n",
       "      <td>NaN</td>\n",
       "      <td>E10</td>\n",
       "      <td>0</td>\n",
       "      <td>0</td>\n",
       "      <td>0</td>\n",
       "      <td>NaN</td>\n",
       "      <td>NaN</td>\n",
       "    </tr>\n",
       "    <tr>\n",
       "      <th>3</th>\n",
       "      <td>12,9</td>\n",
       "      <td>3,9</td>\n",
       "      <td>36</td>\n",
       "      <td>21,5</td>\n",
       "      <td>14</td>\n",
       "      <td>NaN</td>\n",
       "      <td>E10</td>\n",
       "      <td>0</td>\n",
       "      <td>0</td>\n",
       "      <td>0</td>\n",
       "      <td>NaN</td>\n",
       "      <td>NaN</td>\n",
       "    </tr>\n",
       "    <tr>\n",
       "      <th>4</th>\n",
       "      <td>18,5</td>\n",
       "      <td>4,5</td>\n",
       "      <td>46</td>\n",
       "      <td>21,5</td>\n",
       "      <td>15</td>\n",
       "      <td>NaN</td>\n",
       "      <td>E10</td>\n",
       "      <td>0</td>\n",
       "      <td>0</td>\n",
       "      <td>0</td>\n",
       "      <td>NaN</td>\n",
       "      <td>NaN</td>\n",
       "    </tr>\n",
       "  </tbody>\n",
       "</table>\n",
       "</div>"
      ],
      "text/plain": [
       "  distance consume  speed temp_inside  temp_outside specials gas_type  AC  \\\n",
       "0       28       5     26        21,5            12      NaN      E10   0   \n",
       "1       12     4,2     30        21,5            13      NaN      E10   0   \n",
       "2     11,2     5,5     38        21,5            15      NaN      E10   0   \n",
       "3     12,9     3,9     36        21,5            14      NaN      E10   0   \n",
       "4     18,5     4,5     46        21,5            15      NaN      E10   0   \n",
       "\n",
       "   rain  sun refill liters refill gas  \n",
       "0     0    0            45        E10  \n",
       "1     0    0           NaN        NaN  \n",
       "2     0    0           NaN        NaN  \n",
       "3     0    0           NaN        NaN  \n",
       "4     0    0           NaN        NaN  "
      ]
     },
     "execution_count": 111,
     "metadata": {},
     "output_type": "execute_result"
    }
   ],
   "source": [
    "gasoline = pd.read_csv('measurements.csv')\n",
    "gasoline2 = pd.read_csv('measurements.csv')"
   ]
  },
  {
   "cell_type": "code",
   "execution_count": 13,
   "id": "68ad5d72",
   "metadata": {},
   "outputs": [
    {
     "data": {
      "text/plain": [
       "(388, 12)"
      ]
     },
     "execution_count": 13,
     "metadata": {},
     "output_type": "execute_result"
    }
   ],
   "source": [
    "gasoline.shape"
   ]
  },
  {
   "cell_type": "code",
   "execution_count": 31,
   "id": "b5e23ed6",
   "metadata": {},
   "outputs": [
    {
     "name": "stdout",
     "output_type": "stream",
     "text": [
      "<class 'pandas.core.frame.DataFrame'>\n",
      "RangeIndex: 388 entries, 0 to 387\n",
      "Data columns (total 12 columns):\n",
      " #   Column         Non-Null Count  Dtype \n",
      "---  ------         --------------  ----- \n",
      " 0   distance       388 non-null    object\n",
      " 1   consume        388 non-null    object\n",
      " 2   speed          388 non-null    int64 \n",
      " 3   temp_inside    376 non-null    object\n",
      " 4   temp_outside   388 non-null    int64 \n",
      " 5   specials       93 non-null     object\n",
      " 6   gas_type       388 non-null    object\n",
      " 7   AC             388 non-null    int64 \n",
      " 8   rain           388 non-null    int64 \n",
      " 9   sun            388 non-null    int64 \n",
      " 10  refill liters  13 non-null     object\n",
      " 11  refill gas     13 non-null     object\n",
      "dtypes: int64(5), object(7)\n",
      "memory usage: 36.5+ KB\n"
     ]
    }
   ],
   "source": [
    "gasoline.info()"
   ]
  },
  {
   "cell_type": "markdown",
   "id": "7ec8bfa7",
   "metadata": {},
   "source": [
    "## Cleaning data"
   ]
  },
  {
   "cell_type": "code",
   "execution_count": 71,
   "id": "2102397b",
   "metadata": {},
   "outputs": [],
   "source": [
    "dif_type = ['distance', 'consume', 'speed', 'temp_inside', 'temp_outside', 'refill liters']\n",
    "gasoline[dif_type] = gasoline[dif_type].apply(pd.to_numeric, errors='coerce')\n",
    "gasoline2[dif_type] = gasoline2[dif_type].apply(pd.to_numeric, errors='coerce')"
   ]
  },
  {
   "cell_type": "code",
   "execution_count": 35,
   "id": "d2bac0c0",
   "metadata": {},
   "outputs": [
    {
     "name": "stdout",
     "output_type": "stream",
     "text": [
      "<class 'pandas.core.frame.DataFrame'>\n",
      "RangeIndex: 388 entries, 0 to 387\n",
      "Data columns (total 12 columns):\n",
      " #   Column         Non-Null Count  Dtype  \n",
      "---  ------         --------------  -----  \n",
      " 0   distance       388 non-null    float64\n",
      " 1   consume        388 non-null    float64\n",
      " 2   speed          388 non-null    int64  \n",
      " 3   temp_inside    376 non-null    float64\n",
      " 4   temp_outside   388 non-null    int64  \n",
      " 5   specials       93 non-null     object \n",
      " 6   gas_type       388 non-null    object \n",
      " 7   AC             388 non-null    int64  \n",
      " 8   rain           388 non-null    int64  \n",
      " 9   sun            388 non-null    int64  \n",
      " 10  refill liters  8 non-null      float64\n",
      " 11  refill gas     13 non-null     object \n",
      "dtypes: float64(4), int64(5), object(3)\n",
      "memory usage: 36.5+ KB\n"
     ]
    }
   ],
   "source": [
    "gasoline.info()"
   ]
  },
  {
   "cell_type": "code",
   "execution_count": 28,
   "id": "bf26df5c",
   "metadata": {},
   "outputs": [],
   "source": [
    "no_commas = ['distance', 'consume', 'temp_inside', 'temp_outside']\n",
    "\n",
    "for col in no_commas:\n",
    "     gasoline[col] = gasoline[col].replace(',', '.')"
   ]
  },
  {
   "cell_type": "code",
   "execution_count": 36,
   "id": "ac0a86fb",
   "metadata": {},
   "outputs": [
    {
     "data": {
      "text/plain": [
       "refill liters    380\n",
       "refill gas       375\n",
       "specials         295\n",
       "temp_inside       12\n",
       "distance           0\n",
       "consume            0\n",
       "speed              0\n",
       "temp_outside       0\n",
       "gas_type           0\n",
       "AC                 0\n",
       "dtype: int64"
      ]
     },
     "execution_count": 36,
     "metadata": {},
     "output_type": "execute_result"
    }
   ],
   "source": [
    "pd.isnull(gasoline).sum().sort_values(ascending = False).head(10)"
   ]
  },
  {
   "cell_type": "code",
   "execution_count": 38,
   "id": "49de34c5",
   "metadata": {},
   "outputs": [],
   "source": [
    "null = (gasoline.isnull().sum()) / len(gasoline)\n",
    "del_null = null[null.sort_values(ascending = False) >= 0.5].index\n",
    "gasoline.drop(del_null,axis = 1,inplace = True)"
   ]
  },
  {
   "cell_type": "markdown",
   "id": "cc89b958",
   "metadata": {},
   "source": [
    "## Which gasoline is the most used?"
   ]
  },
  {
   "cell_type": "code",
   "execution_count": 51,
   "id": "67201daf",
   "metadata": {},
   "outputs": [
    {
     "name": "stderr",
     "output_type": "stream",
     "text": [
      "C:\\Users\\isaac\\anaconda3\\lib\\site-packages\\seaborn\\_decorators.py:36: FutureWarning: Pass the following variable as a keyword arg: x. From version 0.12, the only valid positional argument will be `data`, and passing other arguments without an explicit keyword will result in an error or misinterpretation.\n",
      "  warnings.warn(\n"
     ]
    },
    {
     "data": {
      "image/png": "[encoded data removed]",
      "text/plain": [
       "<Figure size 432x288 with 1 Axes>"
      ]
     },
     "metadata": {
      "needs_background": "light"
     },
     "output_type": "display_data"
    }
   ],
   "source": [
    "sea.countplot(gasoline['gas_type']);"
   ]
  },
  {
   "cell_type": "markdown",
   "id": "15abcdc2",
   "metadata": {},
   "source": [
    "## Looking for correlation"
   ]
  },
  {
   "cell_type": "code",
   "execution_count": 40,
   "id": "22d6e460",
   "metadata": {},
   "outputs": [
    {
     "data": {
      "text/html": [
       "<div>\n",
       "<style scoped>\n",
       "    .dataframe tbody tr th:only-of-type {\n",
       "        vertical-align: middle;\n",
       "    }\n",
       "\n",
       "    .dataframe tbody tr th {\n",
       "        vertical-align: top;\n",
       "    }\n",
       "\n",
       "    .dataframe thead th {\n",
       "        text-align: right;\n",
       "    }\n",
       "</style>\n",
       "<table border=\"1\" class=\"dataframe\">\n",
       "  <thead>\n",
       "    <tr style=\"text-align: right;\">\n",
       "      <th></th>\n",
       "      <th>distance</th>\n",
       "      <th>consume</th>\n",
       "      <th>speed</th>\n",
       "      <th>temp_inside</th>\n",
       "      <th>temp_outside</th>\n",
       "      <th>AC</th>\n",
       "      <th>rain</th>\n",
       "      <th>sun</th>\n",
       "    </tr>\n",
       "  </thead>\n",
       "  <tbody>\n",
       "    <tr>\n",
       "      <th>distance</th>\n",
       "      <td>1.000000</td>\n",
       "      <td>-0.128967</td>\n",
       "      <td>0.562299</td>\n",
       "      <td>0.075305</td>\n",
       "      <td>0.088175</td>\n",
       "      <td>-0.025738</td>\n",
       "      <td>-0.019791</td>\n",
       "      <td>0.081120</td>\n",
       "    </tr>\n",
       "    <tr>\n",
       "      <th>consume</th>\n",
       "      <td>-0.128967</td>\n",
       "      <td>1.000000</td>\n",
       "      <td>-0.227866</td>\n",
       "      <td>-0.161991</td>\n",
       "      <td>-0.320811</td>\n",
       "      <td>0.096591</td>\n",
       "      <td>0.248118</td>\n",
       "      <td>-0.170667</td>\n",
       "    </tr>\n",
       "    <tr>\n",
       "      <th>speed</th>\n",
       "      <td>0.562299</td>\n",
       "      <td>-0.227866</td>\n",
       "      <td>1.000000</td>\n",
       "      <td>0.059725</td>\n",
       "      <td>0.015411</td>\n",
       "      <td>-0.035408</td>\n",
       "      <td>0.009489</td>\n",
       "      <td>0.081618</td>\n",
       "    </tr>\n",
       "    <tr>\n",
       "      <th>temp_inside</th>\n",
       "      <td>0.075305</td>\n",
       "      <td>-0.161991</td>\n",
       "      <td>0.059725</td>\n",
       "      <td>1.000000</td>\n",
       "      <td>0.361308</td>\n",
       "      <td>0.297775</td>\n",
       "      <td>-0.037356</td>\n",
       "      <td>0.246120</td>\n",
       "    </tr>\n",
       "    <tr>\n",
       "      <th>temp_outside</th>\n",
       "      <td>0.088175</td>\n",
       "      <td>-0.320811</td>\n",
       "      <td>0.015411</td>\n",
       "      <td>0.361308</td>\n",
       "      <td>1.000000</td>\n",
       "      <td>0.167562</td>\n",
       "      <td>-0.186315</td>\n",
       "      <td>0.346903</td>\n",
       "    </tr>\n",
       "    <tr>\n",
       "      <th>AC</th>\n",
       "      <td>-0.025738</td>\n",
       "      <td>0.096591</td>\n",
       "      <td>-0.035408</td>\n",
       "      <td>0.297775</td>\n",
       "      <td>0.167562</td>\n",
       "      <td>1.000000</td>\n",
       "      <td>0.242915</td>\n",
       "      <td>0.088598</td>\n",
       "    </tr>\n",
       "    <tr>\n",
       "      <th>rain</th>\n",
       "      <td>-0.019791</td>\n",
       "      <td>0.248118</td>\n",
       "      <td>0.009489</td>\n",
       "      <td>-0.037356</td>\n",
       "      <td>-0.186315</td>\n",
       "      <td>0.242915</td>\n",
       "      <td>1.000000</td>\n",
       "      <td>-0.112650</td>\n",
       "    </tr>\n",
       "    <tr>\n",
       "      <th>sun</th>\n",
       "      <td>0.081120</td>\n",
       "      <td>-0.170667</td>\n",
       "      <td>0.081618</td>\n",
       "      <td>0.246120</td>\n",
       "      <td>0.346903</td>\n",
       "      <td>0.088598</td>\n",
       "      <td>-0.112650</td>\n",
       "      <td>1.000000</td>\n",
       "    </tr>\n",
       "  </tbody>\n",
       "</table>\n",
       "</div>"
      ],
      "text/plain": [
       "              distance   consume     speed  temp_inside  temp_outside  \\\n",
       "distance      1.000000 -0.128967  0.562299     0.075305      0.088175   \n",
       "consume      -0.128967  1.000000 -0.227866    -0.161991     -0.320811   \n",
       "speed         0.562299 -0.227866  1.000000     0.059725      0.015411   \n",
       "temp_inside   0.075305 -0.161991  0.059725     1.000000      0.361308   \n",
       "temp_outside  0.088175 -0.320811  0.015411     0.361308      1.000000   \n",
       "AC           -0.025738  0.096591 -0.035408     0.297775      0.167562   \n",
       "rain         -0.019791  0.248118  0.009489    -0.037356     -0.186315   \n",
       "sun           0.081120 -0.170667  0.081618     0.246120      0.346903   \n",
       "\n",
       "                    AC      rain       sun  \n",
       "distance     -0.025738 -0.019791  0.081120  \n",
       "consume       0.096591  0.248118 -0.170667  \n",
       "speed        -0.035408  0.009489  0.081618  \n",
       "temp_inside   0.297775 -0.037356  0.246120  \n",
       "temp_outside  0.167562 -0.186315  0.346903  \n",
       "AC            1.000000  0.242915  0.088598  \n",
       "rain          0.242915  1.000000 -0.112650  \n",
       "sun           0.088598 -0.112650  1.000000  "
      ]
     },
     "execution_count": 40,
     "metadata": {},
     "output_type": "execute_result"
    }
   ],
   "source": [
    "gas_check = gasoline.corr()\n",
    "gas_check"
   ]
  },
  {
   "cell_type": "code",
   "execution_count": 41,
   "id": "5a3ecdd2",
   "metadata": {},
   "outputs": [
    {
     "data": {
      "image/png": "[encoded data removed]",
      "text/plain": [
       "<Figure size 864x576 with 2 Axes>"
      ]
     },
     "metadata": {
      "needs_background": "light"
     },
     "output_type": "display_data"
    }
   ],
   "source": [
    "Mpl_size = mpl.subplots(figsize = (12, 8))\n",
    "sea.heatmap(gas_check, square=True);"
   ]
  },
  {
   "cell_type": "markdown",
   "id": "ad04726c",
   "metadata": {},
   "source": [
    "## Using models to get a better grasp on what is somewhat working"
   ]
  },
  {
   "cell_type": "code",
   "execution_count": 54,
   "id": "67bd9a99",
   "metadata": {},
   "outputs": [],
   "source": [
    "sp98 = gasoline[gasoline['gas_type']=='SP98']\n",
    "sp98 = sp98.dropna()\n",
    "e10 = gasoline[gasoline['gas_type']=='E10']\n",
    "e10 = e10.dropna()"
   ]
  },
  {
   "cell_type": "code",
   "execution_count": 55,
   "id": "41132bf5",
   "metadata": {},
   "outputs": [
    {
     "name": "stdout",
     "output_type": "stream",
     "text": [
      "                            OLS Regression Results                            \n",
      "==============================================================================\n",
      "Dep. Variable:                consume   R-squared:                       0.220\n",
      "Model:                            OLS   Adj. R-squared:                  0.194\n",
      "Method:                 Least Squares   F-statistic:                     8.500\n",
      "Date:                Tue, 10 Jan 2023   Prob (F-statistic):           3.67e-09\n",
      "Time:                        13:23:43   Log-Likelihood:                -310.52\n",
      "No. Observations:                 219   AIC:                             637.0\n",
      "Df Residuals:                     211   BIC:                             664.2\n",
      "Df Model:                           7                                         \n",
      "Covariance Type:            nonrobust                                         \n",
      "================================================================================\n",
      "                   coef    std err          t      P>|t|      [0.025      0.975]\n",
      "--------------------------------------------------------------------------------\n",
      "const            8.3936      1.369      6.132      0.000       5.695      11.092\n",
      "distance         0.0021      0.003      0.638      0.524      -0.004       0.009\n",
      "speed           -0.0205      0.006     -3.332      0.001      -0.033      -0.008\n",
      "temp_inside     -0.1046      0.064     -1.632      0.104      -0.231       0.022\n",
      "temp_outside    -0.0416      0.011     -3.723      0.000      -0.064      -0.020\n",
      "AC               0.5746      0.248      2.317      0.021       0.086       1.063\n",
      "rain             0.4611      0.212      2.173      0.031       0.043       0.879\n",
      "sun             -0.0960      0.264     -0.363      0.717      -0.617       0.425\n",
      "==============================================================================\n",
      "Omnibus:                      155.996   Durbin-Watson:                   2.080\n",
      "Prob(Omnibus):                  0.000   Jarque-Bera (JB):             1637.851\n",
      "Skew:                           2.698   Prob(JB):                         0.00\n",
      "Kurtosis:                      15.263   Cond. No.                     1.09e+03\n",
      "==============================================================================\n",
      "\n",
      "Notes:\n",
      "[1] Standard Errors assume that the covariance matrix of the errors is correctly specified.\n",
      "[2] The condition number is large, 1.09e+03. This might indicate that there are\n",
      "strong multicollinearity or other numerical problems.\n"
     ]
    }
   ],
   "source": [
    "X = sm.add_constant(sp98[['distance', 'speed', 'temp_inside', 'temp_outside', 'AC',\n",
    "       'rain', 'sun']])\n",
    "Y = sp98['consume']\n",
    "\n",
    "model = sm.OLS(Y, X).fit()\n",
    "predictions = model.predict(X) \n",
    "\n",
    "model = model.summary()\n",
    "print(model)"
   ]
  },
  {
   "cell_type": "code",
   "execution_count": 56,
   "id": "c21aa8a7",
   "metadata": {},
   "outputs": [
    {
     "name": "stdout",
     "output_type": "stream",
     "text": [
      "                            OLS Regression Results                            \n",
      "==============================================================================\n",
      "Dep. Variable:                consume   R-squared:                       0.196\n",
      "Model:                            OLS   Adj. R-squared:                  0.158\n",
      "Method:                 Least Squares   F-statistic:                     5.194\n",
      "Date:                Tue, 10 Jan 2023   Prob (F-statistic):           2.58e-05\n",
      "Time:                        13:24:09   Log-Likelihood:                -188.24\n",
      "No. Observations:                 157   AIC:                             392.5\n",
      "Df Residuals:                     149   BIC:                             416.9\n",
      "Df Model:                           7                                         \n",
      "Covariance Type:            nonrobust                                         \n",
      "================================================================================\n",
      "                   coef    std err          t      P>|t|      [0.025      0.975]\n",
      "--------------------------------------------------------------------------------\n",
      "const            4.0627      2.662      1.526      0.129      -1.198       9.324\n",
      "distance         0.0007      0.004      0.160      0.873      -0.008       0.009\n",
      "speed           -0.0138      0.006     -2.213      0.028      -0.026      -0.001\n",
      "temp_inside      0.0837      0.122      0.686      0.494      -0.157       0.325\n",
      "temp_outside    -0.0408      0.012     -3.516      0.001      -0.064      -0.018\n",
      "AC               0.0098      0.363      0.027      0.978      -0.707       0.726\n",
      "rain             0.6153      0.236      2.608      0.010       0.149       1.082\n",
      "sun             -0.1917      0.284     -0.675      0.501      -0.753       0.370\n",
      "==============================================================================\n",
      "Omnibus:                      100.124   Durbin-Watson:                   2.207\n",
      "Prob(Omnibus):                  0.000   Jarque-Bera (JB):              734.316\n",
      "Skew:                           2.255   Prob(JB):                    3.51e-160\n",
      "Kurtosis:                      12.587   Cond. No.                     2.32e+03\n",
      "==============================================================================\n",
      "\n",
      "Notes:\n",
      "[1] Standard Errors assume that the covariance matrix of the errors is correctly specified.\n",
      "[2] The condition number is large, 2.32e+03. This might indicate that there are\n",
      "strong multicollinearity or other numerical problems.\n"
     ]
    }
   ],
   "source": [
    "X = sm.add_constant(e10[['distance', 'speed', 'temp_inside', 'temp_outside', 'AC',\n",
    "       'rain', 'sun']])\n",
    "Y = e10['consume']\n",
    "\n",
    "model = sm.OLS(Y, X).fit()\n",
    "predictions = model.predict(X) \n",
    "\n",
    "model = model.summary()\n",
    "print(model)"
   ]
  },
  {
   "cell_type": "markdown",
   "id": "e6bcb546",
   "metadata": {},
   "source": [
    "## Final stage on testing"
   ]
  },
  {
   "cell_type": "code",
   "execution_count": 110,
   "id": "6736b7e2",
   "metadata": {},
   "outputs": [
    {
     "name": "stdout",
     "output_type": "stream",
     "text": [
      "(228, 12)\n",
      "(160, 12)\n"
     ]
    }
   ],
   "source": [
    "sp98_2 = gasoline2[gasoline['gas_type']=='SP98']\n",
    "e10_2 = gasoline2[gasoline['gas_type']=='E10']\n",
    "\n",
    "print(sp98_2.shape)\n",
    "print(e10_2.shape)"
   ]
  },
  {
   "cell_type": "code",
   "execution_count": 105,
   "id": "419c2ded",
   "metadata": {},
   "outputs": [
    {
     "name": "stdout",
     "output_type": "stream",
     "text": [
      "distance                                                     643.0\n",
      "consume                                                      119.0\n",
      "speed                                                         7973\n",
      "temp_inside                                                 2496.0\n",
      "temp_outside                                                  2541\n",
      "gas_type         SP98SP98SP98SP98SP98SP98SP98SP98SP98SP98SP98SP...\n",
      "AC                                                              15\n",
      "rain                                                             0\n",
      "sun                                                             20\n",
      "refill liters                                                121.0\n",
      "dtype: object\n",
      "--------------------------------------------------------\n",
      "distance                                                      61.0\n",
      "consume                                                       22.0\n",
      "speed                                                         1334\n",
      "temp_inside                                                  390.0\n",
      "temp_outside                                                   247\n",
      "gas_type         SP98SP98SP98SP98SP98SP98SP98SP98SP98SP98SP98SP...\n",
      "AC                                                               8\n",
      "rain                                                            32\n",
      "sun                                                              0\n",
      "refill liters                                                 51.0\n",
      "dtype: object\n"
     ]
    },
    {
     "name": "stderr",
     "output_type": "stream",
     "text": [
      "C:\\Users\\isaac\\AppData\\Local\\Temp\\ipykernel_18348\\2619469101.py:1: FutureWarning: Dropping of nuisance columns in DataFrame reductions (with 'numeric_only=None') is deprecated; in a future version this will raise TypeError.  Select only valid columns before calling the reduction.\n",
      "  print(sp98_2[sp98_2['rain'] == 0].sum())\n",
      "C:\\Users\\isaac\\AppData\\Local\\Temp\\ipykernel_18348\\2619469101.py:3: FutureWarning: Dropping of nuisance columns in DataFrame reductions (with 'numeric_only=None') is deprecated; in a future version this will raise TypeError.  Select only valid columns before calling the reduction.\n",
      "  print(sp98_2[sp98_2['rain'] == 1].sum())\n"
     ]
    }
   ],
   "source": [
    "print(sp98_2[sp98_2['rain'] == 0].sum())\n",
    "print('--------------------------------------------------------')\n",
    "print(sp98_2[sp98_2['rain'] == 1].sum())"
   ]
  },
  {
   "cell_type": "code",
   "execution_count": 108,
   "id": "db2203d7",
   "metadata": {},
   "outputs": [
    {
     "name": "stdout",
     "output_type": "stream",
     "text": [
      "5.4033613445378155\n",
      "2.772727272727273\n"
     ]
    }
   ],
   "source": [
    "#On normal days\n",
    "print(643/119)\n",
    "\n",
    "#On rainy days\n",
    "print(61/22)"
   ]
  },
  {
   "cell_type": "code",
   "execution_count": 106,
   "id": "a7c27e7f",
   "metadata": {},
   "outputs": [
    {
     "name": "stdout",
     "output_type": "stream",
     "text": [
      "distance                                                     302.0\n",
      "consume                                                       86.0\n",
      "speed                                                         6266\n",
      "temp_inside                                                  796.0\n",
      "temp_outside                                                  1487\n",
      "gas_type         E10E10E10E10E10E10E10E10E10E10E10E10E10E10E10E...\n",
      "AC                                                               3\n",
      "rain                                                             0\n",
      "sun                                                             12\n",
      "refill liters                                                 84.0\n",
      "dtype: object\n",
      "--------------------------------------------------------\n",
      "distance                                                      13.0\n",
      "consume                                                        9.0\n",
      "speed                                                          695\n",
      "temp_inside                                                   25.0\n",
      "temp_outside                                                   132\n",
      "specials         AC rainrainrainrainrainAC rainrainrainrainrain...\n",
      "gas_type          E10E10E10E10E10E10E10E10E10E10E10E10E10E10E10E10\n",
      "AC                                                               4\n",
      "rain                                                            16\n",
      "sun                                                              0\n",
      "refill liters                                                 38.0\n",
      "dtype: object\n"
     ]
    },
    {
     "name": "stderr",
     "output_type": "stream",
     "text": [
      "C:\\Users\\isaac\\AppData\\Local\\Temp\\ipykernel_18348\\1988251549.py:1: FutureWarning: Dropping of nuisance columns in DataFrame reductions (with 'numeric_only=None') is deprecated; in a future version this will raise TypeError.  Select only valid columns before calling the reduction.\n",
      "  print(e10_2[e10_2['rain'] == 0].sum())\n",
      "C:\\Users\\isaac\\AppData\\Local\\Temp\\ipykernel_18348\\1988251549.py:3: FutureWarning: Dropping of nuisance columns in DataFrame reductions (with 'numeric_only=None') is deprecated; in a future version this will raise TypeError.  Select only valid columns before calling the reduction.\n",
      "  print(e10_2[e10_2['rain'] == 1].sum())\n"
     ]
    }
   ],
   "source": [
    "print(e10_2[e10_2['rain'] == 0].sum())\n",
    "print('--------------------------------------------------------')\n",
    "print(e10_2[e10_2['rain'] == 1].sum())"
   ]
  },
  {
   "cell_type": "code",
   "execution_count": 107,
   "id": "93e5dbe9",
   "metadata": {},
   "outputs": [
    {
     "name": "stdout",
     "output_type": "stream",
     "text": [
      "3.511627906976744\n",
      "1.4444444444444444\n"
     ]
    }
   ],
   "source": [
    "#On normal days\n",
    "print(302/86)\n",
    "\n",
    "#On rainy days\n",
    "print(13/9)"
   ]
  },
  {
   "cell_type": "markdown",
   "id": "693544ac",
   "metadata": {},
   "source": [
    "## Conclusions"
   ]
  },
  {
   "cell_type": "markdown",
   "id": "16933c22",
   "metadata": {},
   "source": [
    "At the end we can conclude that with only this data, the most popular of the gas types is definitely with a difference of 68 trips, SP98, but why is that?\n",
    "\n",
    "It seems like overall efficiency per liter even on rainy days goes to SP98. Although we have a lot of data missing, like car types, urban or highways, and so on.\n",
    "\n",
    "What somewhat could be surprising in this data, is that distance may not be as correlated to consume as we think, since AC may be a factor depending on the car, could be a defining factor, we dont have enough trips/data to confirm our suspicions.\n",
    "Even so, it seems that with the SP98 Inside temperature may be more of a factor with this consume than with E10 but we cant confirm it. "
   ]
  }
 ],
 "metadata": {
  "kernelspec": {
   "display_name": "Python 3 (ipykernel)",
   "language": "python",
   "name": "python3"
  },
  "language_info": {
   "codemirror_mode": {
    "name": "ipython",
    "version": 3
   },
   "file_extension": ".py",
   "mimetype": "text/x-python",
   "name": "python",
   "nbconvert_exporter": "python",
   "pygments_lexer": "ipython3",
   "version": "3.9.12"
  }
 },
 "nbformat": 4,
 "nbformat_minor": 5
}
